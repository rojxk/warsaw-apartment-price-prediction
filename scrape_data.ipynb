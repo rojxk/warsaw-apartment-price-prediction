{
 "cells": [
  {
   "cell_type": "code",
   "execution_count": 8,
   "id": "initial_id",
   "metadata": {
    "collapsed": true,
    "ExecuteTime": {
     "end_time": "2024-05-27T10:11:12.965263Z",
     "start_time": "2024-05-27T10:11:12.958037Z"
    }
   },
   "outputs": [],
   "source": [
    "import requests\n",
    "from bs4 import BeautifulSoup\n",
    "import csv\n",
    "import time"
   ]
  },
  {
   "cell_type": "code",
   "outputs": [],
   "source": [
    "def fetch_details(url, url_id):\n",
    "   \n",
    "    full_url = f'https://www.otodom.pl{url}'\n",
    "    try:\n",
    "        response = requests.get(full_url, headers={'User-Agent': 'Mozilla/5.0'})\n",
    "        if response.status_code == 404:\n",
    "            print(f\"URL not found, skipping ID {url_id}: {full_url}\")\n",
    "            return None  # Return None to indicate that this URL should be skipped\n",
    "        response.raise_for_status()  # Raises an HTTPError for bad responses (4XX, 5XX)\n",
    "    except requests.RequestException as e:\n",
    "        print(f\"Request failed for ID {url_id}, URL: {full_url}, Error: {e}\")\n",
    "        return None  # Return None to indicate failure\n",
    "    \n",
    "    time.sleep(1)\n",
    "    soup = BeautifulSoup(response.text, 'html.parser')\n",
    "    \n",
    "    # Define a helper function to extract data using a specified selector or attribute\n",
    "    def get_data(selector, attribute=None):\n",
    "        element = soup.select_one(selector)\n",
    "        if element:\n",
    "            if attribute:\n",
    "                return element[attribute]\n",
    "            else:\n",
    "                return element.get_text(strip=True)\n",
    "        else:\n",
    "            return None\n",
    "\n",
    "    # Use the helper function to fetch various details\n",
    "    details = {\n",
    "        'id': url_id,  # Use the passed index as ID\n",
    "        'price': get_data('strong[data-cy=\"adPageHeaderPrice\"]'),  # Extracting price\n",
    "        'area': get_data('div[data-testid=\"table-value-area\"]'),\n",
    "        'rooms': get_data('div[data-testid=\"table-value-rooms_num\"]'),\n",
    "        'floor': get_data('div[data-testid=\"table-value-floor\"]'),\n",
    "        'rent': get_data('div[data-testid=\"table-value-rent\"]'),\n",
    "        'outdoor': get_data('div[data-testid=\"table-value-outdoor\"]'),\n",
    "        'parking': get_data('div[data-testid=\"table-value-car\"]'),\n",
    "        'build_year': get_data('div[data-testid=\"table-value-build_year\"]'),\n",
    "        'status': get_data('div[data-testid=\"table-value-construction_status\"]'),\n",
    "        'address': get_data('a[aria-label=\"Adres\"]') \n",
    "    }\n",
    "    return details"
   ],
   "metadata": {
    "collapsed": false,
    "ExecuteTime": {
     "end_time": "2024-05-27T12:33:38.996348Z",
     "start_time": "2024-05-27T12:33:38.974020Z"
    }
   },
   "id": "f0c62825b83ac233",
   "execution_count": 70
  },
  {
   "cell_type": "code",
   "outputs": [],
   "source": [
    "def save_to_csv(data, filename):\n",
    "    # Open the file in append mode, create a new file if it doesn't exist\n",
    "    with open(filename, 'a', newline='', encoding='utf-8') as file:\n",
    "        # Create a DictWriter with a semicolon as the delimiter\n",
    "        writer = csv.DictWriter(file, fieldnames=data[0].keys(), delimiter=';')\n",
    "        if file.tell() == 0:  # write header only if file is empty\n",
    "            writer.writeheader()\n",
    "        writer.writerows(data)  # Write the data\n"
   ],
   "metadata": {
    "collapsed": false,
    "ExecuteTime": {
     "end_time": "2024-05-27T10:26:53.968886Z",
     "start_time": "2024-05-27T10:26:53.956340Z"
    }
   },
   "id": "842346828aa61322",
   "execution_count": 24
  },
  {
   "cell_type": "code",
   "outputs": [],
   "source": [
    "def read_urls_from_csv(filename, start_index, end_index):\n",
    "    \"\"\" Reads URLs from a CSV file and returns them along with their original indices. \"\"\"\n",
    "    with open(filename, 'r', newline='') as file:\n",
    "        reader = csv.reader(file)\n",
    "        # We create a list of tuples that include the line number (1-based) and the URL\n",
    "        urls_with_indices = [(index + 1, row[0]) for index, row in enumerate(reader)]\n",
    "        # Filter the list to only include URLs within the specified range\n",
    "        filtered_urls = [(index, url) for index, url in urls_with_indices if start_index <= index <= end_index]\n",
    "        return filtered_urls\n"
   ],
   "metadata": {
    "collapsed": false,
    "ExecuteTime": {
     "end_time": "2024-05-27T10:26:52.661303Z",
     "start_time": "2024-05-27T10:26:52.646063Z"
    }
   },
   "id": "86068d092e3e991c",
   "execution_count": 23
  },
  {
   "cell_type": "code",
   "outputs": [],
   "source": [
    "def scrape_details(start, end):\n",
    "    \"\"\" Scrapes details for URLs between specified start and end indices. \"\"\"\n",
    "    urls_with_indices = read_urls_from_csv('all_urls.csv', start, end)\n",
    "    all_details = []\n",
    "    save_interval = 10  # Change to control how often to save\n",
    "\n",
    "    for url_id, url in urls_with_indices:\n",
    "        details = fetch_details(url, url_id)\n",
    "        if details is None:\n",
    "            print(f\"Skipping ID {url_id} due to fetch failure.\")\n",
    "            continue  # Skip saving this ID if fetching failed\n",
    "\n",
    "        all_details.append(details)\n",
    "\n",
    "        # Save every save_interval records or at the end of the list\n",
    "        if len(all_details) >= save_interval:\n",
    "            print(f\"Saving up to ID {url_id}\")\n",
    "            save_to_csv(all_details, 'details.csv')\n",
    "            all_details = []  # Reset the list after saving\n",
    "\n",
    "    # Save any remaining details if not exactly divisible by save_interval\n",
    "    if all_details:\n",
    "        print(\"Saving final batch of details.\")\n",
    "        save_to_csv(all_details, 'details.csv')\n",
    "\n"
   ],
   "metadata": {
    "collapsed": false,
    "ExecuteTime": {
     "end_time": "2024-05-27T13:01:00.820456Z",
     "start_time": "2024-05-27T13:01:00.806456Z"
    }
   },
   "id": "e2954f4dac14a7d8",
   "execution_count": 76
  },
  {
   "cell_type": "code",
   "outputs": [],
   "source": [
    "start = 13001\n",
    "end = 13496"
   ],
   "metadata": {
    "collapsed": false,
    "ExecuteTime": {
     "end_time": "2024-05-27T22:22:35.815444Z",
     "start_time": "2024-05-27T22:22:35.805989Z"
    }
   },
   "id": "6dae03628fcc057a",
   "execution_count": 98
  },
  {
   "cell_type": "code",
   "outputs": [
    {
     "name": "stdout",
     "output_type": "stream",
     "text": [
      "Saving up to ID 13010\n",
      "Saving up to ID 13020\n",
      "Saving up to ID 13030\n",
      "Saving up to ID 13040\n",
      "Request failed for ID 13049, URL: https://www.otodom.pl/pl/oferta/ciche-trzy-pokoje-na-zielonym-mokotowskim-osiedlu-ID4otDY, Error: 410 Client Error: Gone for url: https://www.otodom.pl/pl/oferta/ciche-trzy-pokoje-na-zielonym-mokotowskim-osiedlu-ID4otDY\n",
      "Skipping ID 13049 due to fetch failure.\n",
      "Saving up to ID 13051\n",
      "Saving up to ID 13061\n",
      "Request failed for ID 13070, URL: https://www.otodom.pl/pl/oferta/znakomita-inwestycja-24-minuty-do-centrum-ID4osg5, Error: 410 Client Error: Gone for url: https://www.otodom.pl/pl/oferta/znakomita-inwestycja-24-minuty-do-centrum-ID4osg5\n",
      "Skipping ID 13070 due to fetch failure.\n",
      "Saving up to ID 13072\n",
      "Saving up to ID 13082\n",
      "Saving up to ID 13092\n",
      "Saving up to ID 13102\n",
      "Saving up to ID 13112\n",
      "Saving up to ID 13122\n",
      "Saving up to ID 13132\n",
      "Saving up to ID 13142\n",
      "Saving up to ID 13152\n",
      "Saving up to ID 13162\n",
      "Saving up to ID 13172\n",
      "Saving up to ID 13182\n",
      "Saving up to ID 13192\n",
      "Saving up to ID 13202\n",
      "Saving up to ID 13212\n",
      "Request failed for ID 13213, URL: https://www.otodom.pl/pl/oferta/mieszkanie-na-sprzedaz-2-pokoje-bemowo-ID4o5qY, Error: 410 Client Error: Gone for url: https://www.otodom.pl/pl/oferta/mieszkanie-na-sprzedaz-2-pokoje-bemowo-ID4o5qY\n",
      "Skipping ID 13213 due to fetch failure.\n",
      "Saving up to ID 13223\n",
      "Request failed for ID 13226, URL: https://www.otodom.pl/pl/oferta/wawer-mieszkanie-120-m2-do-wprowadzenia-ID4mwZP, Error: 410 Client Error: Gone for url: https://www.otodom.pl/pl/oferta/wawer-mieszkanie-120-m2-do-wprowadzenia-ID4mwZP\n",
      "Skipping ID 13226 due to fetch failure.\n",
      "Saving up to ID 13234\n",
      "Request failed for ID 13243, URL: https://www.otodom.pl/pl/oferta/metro-slodowiec-36m2-do-remontu-2-pokoje-ID4nR47, Error: 410 Client Error: Gone for url: https://www.otodom.pl/pl/oferta/metro-slodowiec-36m2-do-remontu-2-pokoje-ID4nR47\n",
      "Skipping ID 13243 due to fetch failure.\n",
      "Saving up to ID 13245\n",
      "Saving up to ID 13255\n",
      "Saving up to ID 13265\n",
      "Saving up to ID 13275\n",
      "Request failed for ID 13279, URL: https://www.otodom.pl/pl/oferta/3-pokojowe-mieszkanie-60m2-loggia-ID4o6mM, Error: 410 Client Error: Gone for url: https://www.otodom.pl/pl/oferta/3-pokojowe-mieszkanie-60m2-loggia-ID4o6mM\n",
      "Skipping ID 13279 due to fetch failure.\n",
      "Saving up to ID 13286\n",
      "Saving up to ID 13296\n",
      "Request failed for ID 13303, URL: https://www.otodom.pl/pl/oferta/os-ostoja-wyjatkowy-taras-ID4o1gB, Error: 410 Client Error: Gone for url: https://www.otodom.pl/pl/oferta/os-ostoja-wyjatkowy-taras-ID4o1gB\n",
      "Skipping ID 13303 due to fetch failure.\n",
      "Saving up to ID 13307\n",
      "Saving up to ID 13317\n",
      "Saving up to ID 13327\n",
      "Saving up to ID 13337\n",
      "Saving up to ID 13347\n",
      "Saving up to ID 13357\n",
      "Request failed for ID 13360, URL: https://www.otodom.pl/pl/oferta/dwupoziomowe-mieszkanie-z-ogrodem-218m2-ID4mP4T, Error: 410 Client Error: Gone for url: https://www.otodom.pl/pl/oferta/dwupoziomowe-mieszkanie-z-ogrodem-218m2-ID4mP4T\n",
      "Skipping ID 13360 due to fetch failure.\n",
      "Saving up to ID 13368\n",
      "Saving up to ID 13378\n",
      "Saving up to ID 13388\n",
      "Saving up to ID 13398\n",
      "Saving up to ID 13408\n",
      "Saving up to ID 13418\n",
      "Saving up to ID 13428\n",
      "Saving up to ID 13438\n",
      "Request failed for ID 13439, URL: https://www.otodom.pl/pl/oferta/4-pokojowe-mieszkanie-72m2-2-ogrodki-ID4nzAk, Error: 410 Client Error: Gone for url: https://www.otodom.pl/pl/oferta/4-pokojowe-mieszkanie-72m2-2-ogrodki-ID4nzAk\n",
      "Skipping ID 13439 due to fetch failure.\n",
      "Request failed for ID 13443, URL: https://www.otodom.pl/pl/oferta/osiedle-tawulkowa-pietro-poddasze-158m2-16d-ID4lr8A, Error: 410 Client Error: Gone for url: https://www.otodom.pl/pl/oferta/osiedle-tawulkowa-pietro-poddasze-158m2-16d-ID4lr8A\n",
      "Skipping ID 13443 due to fetch failure.\n",
      "Saving up to ID 13450\n",
      "Request failed for ID 13455, URL: https://www.otodom.pl/pl/oferta/osiedle-tawulkowa-pietro-poddasze-158m2-14c-ID4lr8w, Error: 410 Client Error: Gone for url: https://www.otodom.pl/pl/oferta/osiedle-tawulkowa-pietro-poddasze-158m2-14c-ID4lr8w\n",
      "Skipping ID 13455 due to fetch failure.\n",
      "Saving up to ID 13461\n",
      "Saving up to ID 13471\n",
      "Saving up to ID 13481\n",
      "Request failed for ID 13486, URL: https://www.otodom.pl/pl/oferta/dom-hygge-twin-nowa-inwestycja-na-mokotowie-ID4nw5k, Error: 502 Server Error: Bad Gateway for url: https://www.otodom.pl/pl/oferta/dom-hygge-twin-nowa-inwestycja-na-mokotowie-ID4nw5k\n",
      "Skipping ID 13486 due to fetch failure.\n",
      "Saving up to ID 13492\n",
      "Saving final batch of details.\n"
     ]
    }
   ],
   "source": [
    "scrape_details(start,end)"
   ],
   "metadata": {
    "collapsed": false,
    "ExecuteTime": {
     "end_time": "2024-05-27T22:35:32.646367Z",
     "start_time": "2024-05-27T22:22:37.173380Z"
    }
   },
   "id": "2a8190ade9ed10c2",
   "execution_count": 99
  },
  {
   "cell_type": "code",
   "outputs": [],
   "source": [],
   "metadata": {
    "collapsed": false
   },
   "id": "8cfd4ca2c00e3259"
  }
 ],
 "metadata": {
  "kernelspec": {
   "display_name": "Python 3",
   "language": "python",
   "name": "python3"
  },
  "language_info": {
   "codemirror_mode": {
    "name": "ipython",
    "version": 2
   },
   "file_extension": ".py",
   "mimetype": "text/x-python",
   "name": "python",
   "nbconvert_exporter": "python",
   "pygments_lexer": "ipython2",
   "version": "2.7.6"
  }
 },
 "nbformat": 4,
 "nbformat_minor": 5
}
