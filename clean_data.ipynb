{
 "cells": [
  {
   "cell_type": "code",
   "outputs": [],
   "source": [
    "import pandas as pd"
   ],
   "metadata": {
    "collapsed": false,
    "ExecuteTime": {
     "end_time": "2024-06-01T12:09:11.280938Z",
     "start_time": "2024-06-01T12:09:11.268783Z"
    }
   },
   "id": "c3a1a50e16b8e11d",
   "execution_count": 12
  },
  {
   "cell_type": "code",
   "outputs": [],
   "source": [
    "df = pd.read_csv(\"details.csv\",delimiter=\";\")"
   ],
   "metadata": {
    "collapsed": false,
    "ExecuteTime": {
     "end_time": "2024-06-01T12:09:12.620940Z",
     "start_time": "2024-06-01T12:09:11.939022Z"
    }
   },
   "id": "4957bb81527fb238",
   "execution_count": 13
  },
  {
   "cell_type": "code",
   "execution_count": 14,
   "id": "initial_id",
   "metadata": {
    "collapsed": true,
    "ExecuteTime": {
     "end_time": "2024-06-01T12:09:12.687942Z",
     "start_time": "2024-06-01T12:09:12.666940Z"
    }
   },
   "outputs": [],
   "source": [
    "def clean_price(price):\n",
    "    if price is None or price == 'Zapytaj o cenę':\n",
    "        return None  # Convert 'Zapytaj o cenę' or None to None\n",
    "\n",
    "    # Remove the ' zł' suffix, strip spaces, and replace commas with dots\n",
    "    price = price.replace(' zł', '').replace(' ', '').replace(',', '.')\n",
    "\n",
    "    try:\n",
    "        # Convert the string to a float first to handle any decimals correctly\n",
    "        price = float(price)\n",
    "        # Convert the float to an integer (this effectively discards any decimal part)\n",
    "        return int(price)\n",
    "    except ValueError:\n",
    "        return None  # Return None if conversion fails\n"
   ]
  },
  {
   "cell_type": "code",
   "outputs": [],
   "source": [
    "def clean_rent(rent):\n",
    "    if not isinstance(rent, str):  # Check if the rent is not a string\n",
    "        return None  # If it's not a string, return None (handles NaN, None, etc.)\n",
    "\n",
    "    # Remove ' zł' and replace spaces, then try converting to integer\n",
    "    rent = rent.replace(' zł', '').replace(' ', '')\n",
    "    try:\n",
    "        return int(rent)  # Convert the cleaned string to an integer\n",
    "    except ValueError:\n",
    "        return None  # Return None if conversion fails"
   ],
   "metadata": {
    "collapsed": false,
    "ExecuteTime": {
     "end_time": "2024-06-01T12:09:12.991943Z",
     "start_time": "2024-06-01T12:09:12.979942Z"
    }
   },
   "id": "aed9c8e7c818c047",
   "execution_count": 15
  },
  {
   "cell_type": "code",
   "outputs": [],
   "source": [
    "def clean_area(area):\n",
    "    # Remove ' m²' and replace comma with a dot for float conversion\n",
    "    if area.endswith(' m²'):\n",
    "        area = area.replace(' m²', '').replace(',', '.')\n",
    "    try:\n",
    "        return float(area)  # Convert to float\n",
    "    except ValueError:\n",
    "        return None  # Return None if conversion fails\n"
   ],
   "metadata": {
    "collapsed": false,
    "ExecuteTime": {
     "end_time": "2024-06-01T12:09:14.161596Z",
     "start_time": "2024-06-01T12:09:14.151908Z"
    }
   },
   "id": "91eca6d774bfb472",
   "execution_count": 16
  },
  {
   "cell_type": "code",
   "outputs": [],
   "source": [
    "def extract_district(address):\n",
    "    # List of allowed districts\n",
    "    allowed_districts = [\"Białołęka\", \"Bielany\", \"Bemowo\", \"Żoliborz\", \"Wola\", \"Śródmieście\", \"Ochota\", \"Włochy\", \"Ursus\", \n",
    "                         \"Mokotów\", \"Ursynów\", \"Wilanów\", \"Targówek\", \"Praga-Północ\", \"Praga-Południe\", \"Rembertów\", \n",
    "                         \"Wawer\", \"Wesoła\"]\n",
    "    parts = address.split(',')\n",
    "    if len(parts) >= 3:  # Check if the address has enough parts\n",
    "        district = parts[-3].strip()  # Extract the third last part as the district\n",
    "        if district in allowed_districts:\n",
    "            return district\n",
    "    return None  # Return None if the address format is unexpected or district not allowed"
   ],
   "metadata": {
    "collapsed": false,
    "ExecuteTime": {
     "end_time": "2024-06-01T12:09:15.291273Z",
     "start_time": "2024-06-01T12:09:15.278732Z"
    }
   },
   "id": "6c64bbb0400d194b",
   "execution_count": 17
  },
  {
   "cell_type": "code",
   "outputs": [],
   "source": [
    "def split_floor(floor_string):\n",
    "    if not isinstance(floor_string, str):\n",
    "        return None, None  # Handle non-string input gracefully\n",
    "\n",
    "    floor_string = floor_string.lower().strip()\n",
    "\n",
    "    # Handle \"parter\" followed by a slash and a number, e.g., \"parter/4\"\n",
    "    if 'parter' in floor_string:\n",
    "        parts = floor_string.split('/')\n",
    "        if len(parts) == 2 and parts[0].strip() == 'parter':\n",
    "            floor = 0  # Parter is considered as floor 0\n",
    "            max_floor = int(parts[1].strip()) if parts[1].strip().isdigit() else None\n",
    "            return floor, max_floor\n",
    "        return None, None  # If format is not as expected\n",
    "\n",
    "    # Handle \"suterena\" followed by a slash and a number\n",
    "    if 'suterena' in floor_string:\n",
    "        parts = floor_string.split('/')\n",
    "        if len(parts) == 2 and parts[0].strip() == 'suterena':\n",
    "            floor = -1  # Suterena is often considered as a basement floor\n",
    "            max_floor = int(parts[1].strip()) if parts[1].strip().isdigit() else None\n",
    "            return floor, max_floor\n",
    "        return None, None\n",
    "\n",
    "    # Handle \"poddasze\" followed by a slash and a number\n",
    "    if 'poddasze' in floor_string:\n",
    "        parts = floor_string.split('/')\n",
    "        if len(parts) == 2 and parts[0].strip() == 'poddasze':\n",
    "            max_floor = int(parts[1].strip()) if parts[1].strip().isdigit() else None\n",
    "            floor = max_floor  # Set the floor to max_floor for \"poddasze\"\n",
    "            return floor, max_floor\n",
    "        return None, None\n",
    "\n",
    "    # Handle floors with \">\"\n",
    "    if '>' in floor_string:\n",
    "        parts = floor_string.replace('>', '').split('/')\n",
    "        floor = int(parts[0].strip()) + 1  # Increment floor by one\n",
    "        max_floor = int(parts[1].strip()) if len(parts) > 1 and parts[1].strip().isdigit() else None\n",
    "    else:\n",
    "        parts = floor_string.split('/')\n",
    "        if len(parts) == 2:\n",
    "            floor = int(parts[0].strip())\n",
    "            max_floor = int(parts[1].strip()) if parts[1].strip().isdigit() else None\n",
    "        else:\n",
    "            return None, None  # Return None if format is unexpected\n",
    "\n",
    "    return floor, max_floor\n"
   ],
   "metadata": {
    "collapsed": false,
    "ExecuteTime": {
     "end_time": "2024-06-01T12:09:16.475596Z",
     "start_time": "2024-06-01T12:09:16.446344Z"
    }
   },
   "id": "49597d60400a2231",
   "execution_count": 18
  },
  {
   "cell_type": "code",
   "outputs": [],
   "source": [
    "def clean_build_year(year):\n",
    "    if not isinstance(year, str):  # Check if the input is not a string\n",
    "        return None  # Return None for non-string inputs to handle cases like NaN or None directly\n",
    "    \n",
    "    year = year.strip()  # Trim whitespace from the string\n",
    "    if year.isdigit():  # Check if the string is all digits\n",
    "        return int(year)  # Convert to integer if it is a valid year\n",
    "    elif year.lower() == 'brak informacji':  # Handle the 'no information' case\n",
    "        return None  # Return None if there is no valid year information\n",
    "    \n",
    "    return None  # Return None for any other cases that do not match"
   ],
   "metadata": {
    "collapsed": false,
    "ExecuteTime": {
     "end_time": "2024-06-01T12:09:17.323587Z",
     "start_time": "2024-06-01T12:09:17.313097Z"
    }
   },
   "id": "85c03a7f14d66e93",
   "execution_count": 19
  },
  {
   "cell_type": "code",
   "outputs": [],
   "source": [
    "def clean_rooms(rooms):\n",
    "    if not isinstance(rooms, str):  # Check if the input is not a string\n",
    "        return None  # Return None for non-string inputs like NaN or None directly\n",
    "    \n",
    "    rooms = rooms.strip()  # Trim whitespace from the string\n",
    "    if rooms.isdigit():  # Check if the string is all digits\n",
    "        return int(rooms)  # Convert to integer if it is a valid room number\n",
    "    elif rooms.lower() == 'więcej niż 10':  # Handle the 'more than 10 rooms' case\n",
    "        return 11  # Assign 11 for 'więcej niż 10'\n",
    "    \n",
    "    return None  # Return None for any other cases that do not match"
   ],
   "metadata": {
    "collapsed": false,
    "ExecuteTime": {
     "end_time": "2024-06-01T12:09:18.526518Z",
     "start_time": "2024-06-01T12:09:18.514519Z"
    }
   },
   "id": "b1038fbb0d94fbf3",
   "execution_count": 20
  },
  {
   "cell_type": "code",
   "outputs": [
    {
     "name": "stdout",
     "output_type": "stream",
     "text": [
      "   id    price   area  rooms  floor  rent         outdoor  \\\n",
      "0   1  1070000  59.50      2      8  <NA>             NaN   \n",
      "1   2     <NA>  38.04      2      0  <NA>         ogródek   \n",
      "2   3  1700000  67.44      3      3  <NA>          balkon   \n",
      "3   4   933000  46.00      2   <NA>   600          balkon   \n",
      "4   5     <NA>  80.74      4      0  <NA>  taras, ogródek   \n",
      "\n",
      "                    parking  build_year           status     district  \\\n",
      "0                       NaN        2000              NaN     Targówek   \n",
      "1  garaż/miejsce parkingowe        <NA>   do wykończenia      Ursynów   \n",
      "2  garaż/miejsce parkingowe        <NA>  do zamieszkania      Wilanów   \n",
      "3                       NaN        <NA>              NaN  Śródmieście   \n",
      "4  garaż/miejsce parkingowe        <NA>   do wykończenia     Targówek   \n",
      "\n",
      "   max_floor  \n",
      "0         11  \n",
      "1          5  \n",
      "2          3  \n",
      "3       <NA>  \n",
      "4         10  \n"
     ]
    }
   ],
   "source": [
    "# Apply the functions to columns\n",
    "df['price'] = df['price'].apply(clean_price).astype('Int64')\n",
    "df['area'] = df['area'].apply(clean_area)\n",
    "df['district'] = df['address'].apply(extract_district)\n",
    "df = df.dropna(subset=['district'])\n",
    "df[['floor', 'max_floor']] = df['floor'].apply(lambda x: pd.Series(split_floor(x))).astype('Int64')\n",
    "df = df.drop('address', axis=1)\n",
    "df['rent'] = df['rent'].apply(clean_rent).astype('Int64')\n",
    "df['build_year'] = df['build_year'].apply(clean_build_year).astype('Int64')\n",
    "df['rooms'] = df['rooms'].apply(clean_rooms).astype('Int64')\n",
    "print(df.head())"
   ],
   "metadata": {
    "collapsed": false,
    "ExecuteTime": {
     "end_time": "2024-06-01T12:09:27.296680Z",
     "start_time": "2024-06-01T12:09:20.485517Z"
    }
   },
   "id": "68c9f9dbd9d55103",
   "execution_count": 21
  },
  {
   "cell_type": "code",
   "outputs": [
    {
     "name": "stdout",
     "output_type": "stream",
     "text": [
      "Data cleaning complete and saved to 'cleaned_data.csv'.\n"
     ]
    }
   ],
   "source": [
    "# Save the cleaned data back to CSV\n",
    "df.to_csv('cleaned_data.csv', sep=';', index=False)  # Saves with semicolon delimiter\n",
    "\n",
    "print(\"Data cleaning complete and saved to 'cleaned_data.csv'.\")"
   ],
   "metadata": {
    "collapsed": false,
    "ExecuteTime": {
     "end_time": "2024-06-01T12:09:45.880082Z",
     "start_time": "2024-06-01T12:09:45.545831Z"
    }
   },
   "id": "b36ead7a9464a4eb",
   "execution_count": 22
  },
  {
   "cell_type": "code",
   "outputs": [
    {
     "name": "stdout",
     "output_type": "stream",
     "text": [
      "Collecting matplotlibNote: you may need to restart the kernel to use updated packages.\n",
      "\n",
      "  Obtaining dependency information for matplotlib from https://files.pythonhosted.org/packages/17/91/febbb6c1063ae05a62fdbe038c2917b348b1b35f0482cee4738e6870a44a/matplotlib-3.9.0-cp312-cp312-win_amd64.whl.metadata\n",
      "  Downloading matplotlib-3.9.0-cp312-cp312-win_amd64.whl.metadata (11 kB)\n",
      "Collecting contourpy>=1.0.1 (from matplotlib)\n",
      "  Obtaining dependency information for contourpy>=1.0.1 from https://files.pythonhosted.org/packages/78/38/a046bb0ebce6f530175d434e7364149e338ffe1069ee286ed8ba7f6481ee/contourpy-1.2.1-cp312-cp312-win_amd64.whl.metadata\n",
      "  Using cached contourpy-1.2.1-cp312-cp312-win_amd64.whl.metadata (5.8 kB)\n",
      "Collecting cycler>=0.10 (from matplotlib)\n",
      "  Obtaining dependency information for cycler>=0.10 from https://files.pythonhosted.org/packages/e7/05/c19819d5e3d95294a6f5947fb9b9629efb316b96de511b418c53d245aae6/cycler-0.12.1-py3-none-any.whl.metadata\n",
      "  Using cached cycler-0.12.1-py3-none-any.whl.metadata (3.8 kB)\n",
      "Collecting fonttools>=4.22.0 (from matplotlib)\n",
      "  Obtaining dependency information for fonttools>=4.22.0 from https://files.pythonhosted.org/packages/56/89/557641b6eb3bae93bdddc6bf190655c2f4d0aeb24d9e5ae2a2763638ed71/fonttools-4.52.4-cp312-cp312-win_amd64.whl.metadata\n",
      "  Downloading fonttools-4.52.4-cp312-cp312-win_amd64.whl.metadata (164 kB)\n",
      "     ---------------------------------------- 0.0/165.0 kB ? eta -:--:--\n",
      "     ------------------------- ------------ 112.6/165.0 kB 3.3 MB/s eta 0:00:01\n",
      "     -------------------------------------- 165.0/165.0 kB 2.5 MB/s eta 0:00:00\n",
      "Collecting kiwisolver>=1.3.1 (from matplotlib)\n",
      "  Obtaining dependency information for kiwisolver>=1.3.1 from https://files.pythonhosted.org/packages/63/50/2746566bdf4a6a842d117367d05c90cfb87ac04e9e2845aa1fa21f071362/kiwisolver-1.4.5-cp312-cp312-win_amd64.whl.metadata\n",
      "  Using cached kiwisolver-1.4.5-cp312-cp312-win_amd64.whl.metadata (6.5 kB)\n",
      "Requirement already satisfied: numpy>=1.23 in c:\\users\\user\\pycharmprojects\\pad_otodom\\.venv\\lib\\site-packages (from matplotlib) (1.26.4)\n",
      "Requirement already satisfied: packaging>=20.0 in c:\\users\\user\\pycharmprojects\\pad_otodom\\.venv\\lib\\site-packages (from matplotlib) (24.0)\n",
      "Requirement already satisfied: pillow>=8 in c:\\users\\user\\pycharmprojects\\pad_otodom\\.venv\\lib\\site-packages (from matplotlib) (10.3.0)\n",
      "Collecting pyparsing>=2.3.1 (from matplotlib)\n",
      "  Obtaining dependency information for pyparsing>=2.3.1 from https://files.pythonhosted.org/packages/9d/ea/6d76df31432a0e6fdf81681a895f009a4bb47b3c39036db3e1b528191d52/pyparsing-3.1.2-py3-none-any.whl.metadata\n",
      "  Using cached pyparsing-3.1.2-py3-none-any.whl.metadata (5.1 kB)\n",
      "Requirement already satisfied: python-dateutil>=2.7 in c:\\users\\user\\pycharmprojects\\pad_otodom\\.venv\\lib\\site-packages (from matplotlib) (2.9.0.post0)\n",
      "Requirement already satisfied: six>=1.5 in c:\\users\\user\\pycharmprojects\\pad_otodom\\.venv\\lib\\site-packages (from python-dateutil>=2.7->matplotlib) (1.16.0)\n",
      "Downloading matplotlib-3.9.0-cp312-cp312-win_amd64.whl (8.0 MB)\n",
      "   ---------------------------------------- 0.0/8.0 MB ? eta -:--:--\n",
      "   - -------------------------------------- 0.2/8.0 MB 6.9 MB/s eta 0:00:02\n",
      "   ---- ----------------------------------- 0.9/8.0 MB 9.6 MB/s eta 0:00:01\n",
      "   -------- ------------------------------- 1.7/8.0 MB 12.2 MB/s eta 0:00:01\n",
      "   ----------- ---------------------------- 2.2/8.0 MB 10.2 MB/s eta 0:00:01\n",
      "   ------------------- -------------------- 3.9/8.0 MB 13.7 MB/s eta 0:00:01\n",
      "   ----------------------- ---------------- 4.7/8.0 MB 13.6 MB/s eta 0:00:01\n",
      "   --------------------------- ------------ 5.6/8.0 MB 13.7 MB/s eta 0:00:01\n",
      "   -------------------------------- ------- 6.5/8.0 MB 13.3 MB/s eta 0:00:01\n",
      "   ------------------------------------- -- 7.4/8.0 MB 13.5 MB/s eta 0:00:01\n",
      "   ---------------------------------------  8.0/8.0 MB 14.2 MB/s eta 0:00:01\n",
      "   ---------------------------------------- 8.0/8.0 MB 13.1 MB/s eta 0:00:00\n",
      "Using cached contourpy-1.2.1-cp312-cp312-win_amd64.whl (189 kB)\n",
      "Using cached cycler-0.12.1-py3-none-any.whl (8.3 kB)\n",
      "Downloading fonttools-4.52.4-cp312-cp312-win_amd64.whl (2.2 MB)\n",
      "   ---------------------------------------- 0.0/2.2 MB ? eta -:--:--\n",
      "   -------------- ------------------------- 0.8/2.2 MB 16.3 MB/s eta 0:00:01\n",
      "   ----------------------------- ---------- 1.6/2.2 MB 14.9 MB/s eta 0:00:01\n",
      "   ---------------------------------------- 2.2/2.2 MB 14.0 MB/s eta 0:00:00\n",
      "Using cached kiwisolver-1.4.5-cp312-cp312-win_amd64.whl (56 kB)\n",
      "Using cached pyparsing-3.1.2-py3-none-any.whl (103 kB)\n",
      "Installing collected packages: pyparsing, kiwisolver, fonttools, cycler, contourpy, matplotlib\n",
      "Successfully installed contourpy-1.2.1 cycler-0.12.1 fonttools-4.52.4 kiwisolver-1.4.5 matplotlib-3.9.0 pyparsing-3.1.2\n"
     ]
    },
    {
     "name": "stderr",
     "output_type": "stream",
     "text": [
      "\n",
      "[notice] A new release of pip is available: 23.2.1 -> 24.0\n",
      "[notice] To update, run: python.exe -m pip install --upgrade pip\n"
     ]
    }
   ],
   "source": [],
   "metadata": {
    "collapsed": false,
    "ExecuteTime": {
     "end_time": "2024-05-28T08:56:39.306527Z",
     "start_time": "2024-05-28T08:56:09.986030Z"
    }
   },
   "id": "458aa8f41eba3432",
   "execution_count": 144
  },
  {
   "cell_type": "code",
   "outputs": [],
   "source": [],
   "metadata": {
    "collapsed": false
   },
   "id": "b54067d35a566b14"
  }
 ],
 "metadata": {
  "kernelspec": {
   "display_name": "Python 3",
   "language": "python",
   "name": "python3"
  },
  "language_info": {
   "codemirror_mode": {
    "name": "ipython",
    "version": 2
   },
   "file_extension": ".py",
   "mimetype": "text/x-python",
   "name": "python",
   "nbconvert_exporter": "python",
   "pygments_lexer": "ipython2",
   "version": "2.7.6"
  }
 },
 "nbformat": 4,
 "nbformat_minor": 5
}
