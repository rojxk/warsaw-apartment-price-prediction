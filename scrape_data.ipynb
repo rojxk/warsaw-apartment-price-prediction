{
 "cells": [
  {
   "cell_type": "code",
   "execution_count": 8,
   "id": "initial_id",
   "metadata": {
    "ExecuteTime": {
     "end_time": "2024-05-27T10:11:12.965263Z",
     "start_time": "2024-05-27T10:11:12.958037Z"
    },
    "collapsed": true
   },
   "outputs": [],
   "source": [
    "import requests\n",
    "from bs4 import BeautifulSoup\n",
    "import csv\n",
    "import time"
   ]
  },
  {
   "cell_type": "code",
   "execution_count": 70,
   "id": "f0c62825b83ac233",
   "metadata": {
    "ExecuteTime": {
     "end_time": "2024-05-27T12:33:38.996348Z",
     "start_time": "2024-05-27T12:33:38.974020Z"
    },
    "collapsed": false
   },
   "outputs": [],
   "source": [
    "def fetch_details(url, url_id):\n",
    "   \n",
    "    full_url = f'https://www.otodom.pl{url}'\n",
    "    try:\n",
    "        response = requests.get(full_url, headers={'User-Agent': 'Mozilla/5.0'})\n",
    "        if response.status_code == 404:\n",
    "            print(f\"URL not found, skipping ID {url_id}: {full_url}\")\n",
    "            return None  # Return None to indicate that this URL should be skipped\n",
    "        response.raise_for_status()  # Raises an HTTPError for bad responses (4XX, 5XX)\n",
    "    except requests.RequestException as e:\n",
    "        print(f\"Request failed for ID {url_id}, URL: {full_url}, Error: {e}\")\n",
    "        return None  # Return None to indicate failure\n",
    "    \n",
    "    time.sleep(1)\n",
    "    soup = BeautifulSoup(response.text, 'html.parser')\n",
    "    \n",
    "    # Define a helper function to extract data using a specified selector or attribute\n",
    "    def get_data(selector, attribute=None):\n",
    "        element = soup.select_one(selector)\n",
    "        if element:\n",
    "            if attribute:\n",
    "                return element[attribute]\n",
    "            else:\n",
    "                return element.get_text(strip=True)\n",
    "        else:\n",
    "            return None\n",
    "\n",
    "    # Use the helper function to fetch various details\n",
    "    details = {\n",
    "        'id': url_id,  # Use the passed index as ID\n",
    "        'price': get_data('strong[data-cy=\"adPageHeaderPrice\"]'),  # Extracting price\n",
    "        'area': get_data('div[data-testid=\"table-value-area\"]'),\n",
    "        'rooms': get_data('div[data-testid=\"table-value-rooms_num\"]'),\n",
    "        'floor': get_data('div[data-testid=\"table-value-floor\"]'),\n",
    "        'rent': get_data('div[data-testid=\"table-value-rent\"]'),\n",
    "        'outdoor': get_data('div[data-testid=\"table-value-outdoor\"]'),\n",
    "        'parking': get_data('div[data-testid=\"table-value-car\"]'),\n",
    "        'build_year': get_data('div[data-testid=\"table-value-build_year\"]'),\n",
    "        'status': get_data('div[data-testid=\"table-value-construction_status\"]'),\n",
    "        'address': get_data('a[aria-label=\"Adres\"]') \n",
    "    }\n",
    "    return details"
   ]
  },
  {
   "cell_type": "code",
   "execution_count": 24,
   "id": "842346828aa61322",
   "metadata": {
    "ExecuteTime": {
     "end_time": "2024-05-27T10:26:53.968886Z",
     "start_time": "2024-05-27T10:26:53.956340Z"
    },
    "collapsed": false
   },
   "outputs": [],
   "source": [
    "def save_to_csv(data, filename):\n",
    "    # Open the file in append mode, create a new file if it doesn't exist\n",
    "    with open(filename, 'a', newline='', encoding='utf-8') as file:\n",
    "        # Create a DictWriter with a semicolon as the delimiter\n",
    "        writer = csv.DictWriter(file, fieldnames=data[0].keys(), delimiter=';')\n",
    "        if file.tell() == 0:  # write header only if file is empty\n",
    "            writer.writeheader()\n",
    "        writer.writerows(data)  # Write the data\n"
   ]
  },
  {
   "cell_type": "code",
   "execution_count": 23,
   "id": "86068d092e3e991c",
   "metadata": {
    "ExecuteTime": {
     "end_time": "2024-05-27T10:26:52.661303Z",
     "start_time": "2024-05-27T10:26:52.646063Z"
    },
    "collapsed": false
   },
   "outputs": [],
   "source": [
    "def read_urls_from_csv(filename, start_index, end_index):\n",
    "    \"\"\" Reads URLs from a CSV file and returns them along with their original indices. \"\"\"\n",
    "    with open(filename, 'r', newline='') as file:\n",
    "        reader = csv.reader(file)\n",
    "        # We create a list of tuples that include the line number (1-based) and the URL\n",
    "        urls_with_indices = [(index + 1, row[0]) for index, row in enumerate(reader)]\n",
    "        # Filter the list to only include URLs within the specified range\n",
    "        filtered_urls = [(index, url) for index, url in urls_with_indices if start_index <= index <= end_index]\n",
    "        return filtered_urls\n"
   ]
  },
  {
   "cell_type": "code",
   "execution_count": 76,
   "id": "e2954f4dac14a7d8",
   "metadata": {
    "ExecuteTime": {
     "end_time": "2024-05-27T13:01:00.820456Z",
     "start_time": "2024-05-27T13:01:00.806456Z"
    },
    "collapsed": false
   },
   "outputs": [],
   "source": [
    "def scrape_details(start, end):\n",
    "    \"\"\" Scrapes details for URLs between specified start and end indices. \"\"\"\n",
    "    urls_with_indices = read_urls_from_csv('all_urls.csv', start, end)\n",
    "    all_details = []\n",
    "    save_interval = 10  # Change to control how often to save\n",
    "\n",
    "    for url_id, url in urls_with_indices:\n",
    "        details = fetch_details(url, url_id)\n",
    "        if details is None:\n",
    "            print(f\"Skipping ID {url_id} due to fetch failure.\")\n",
    "            continue  # Skip saving this ID if fetching failed\n",
    "\n",
    "        all_details.append(details)\n",
    "\n",
    "        # Save every save_interval records or at the end of the list\n",
    "        if len(all_details) >= save_interval:\n",
    "            print(f\"Saving up to ID {url_id}\")\n",
    "            save_to_csv(all_details, 'details.csv')\n",
    "            all_details = []  # Reset the list after saving\n",
    "\n",
    "    # Save any remaining details if not exactly divisible by save_interval\n",
    "    if all_details:\n",
    "        print(\"Saving final batch of details.\")\n",
    "        save_to_csv(all_details, 'details.csv')\n",
    "\n"
   ]
  },
  {
   "cell_type": "code",
   "execution_count": 98,
   "id": "6dae03628fcc057a",
   "metadata": {
    "ExecuteTime": {
     "end_time": "2024-05-27T22:22:35.815444Z",
     "start_time": "2024-05-27T22:22:35.805989Z"
    },
    "collapsed": false
   },
   "outputs": [],
   "source": [
    "start = 0\n",
    "end = 100"
   ]
  },
  {
   "cell_type": "code",
   "execution_count": null,
   "id": "8cfd4ca2c00e3259",
   "metadata": {
    "collapsed": false
   },
   "outputs": [],
   "source": [
    "scrape_details(start,end)"
   ]
  }
 ],
 "metadata": {
  "kernelspec": {
   "display_name": "Python 3",
   "language": "python",
   "name": "python3"
  },
  "language_info": {
   "codemirror_mode": {
    "name": "ipython",
    "version": 2
   },
   "file_extension": ".py",
   "mimetype": "text/x-python",
   "name": "python",
   "nbconvert_exporter": "python",
   "pygments_lexer": "ipython2",
   "version": "2.7.6"
  }
 },
 "nbformat": 4,
 "nbformat_minor": 5
}
